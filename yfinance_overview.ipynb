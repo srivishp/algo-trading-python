{
 "cells": [
  {
   "cell_type": "markdown",
   "metadata": {},
   "source": [
    "# Overview of Yahoo Finance & data extraction\n",
    "#### Downloading data for a 6 month period"
   ]
  },
  {
   "cell_type": "code",
   "execution_count": 2,
   "metadata": {},
   "outputs": [
    {
     "name": "stderr",
     "output_type": "stream",
     "text": [
      "[*********************100%%**********************]  1 of 1 completed"
     ]
    },
    {
     "name": "stdout",
     "output_type": "stream",
     "text": [
      "                  Open        High         Low       Close   Adj Close  \\\n",
      "Date                                                                     \n",
      "2023-11-27  376.779999  380.640015  376.200012  378.609985  377.230713   \n",
      "2023-11-28  378.350006  383.000000  378.160004  382.700012  381.305847   \n",
      "2023-11-29  383.760010  384.299988  377.440002  378.850006  377.469849   \n",
      "2023-11-30  378.489990  380.089996  375.470001  378.910004  377.529633   \n",
      "2023-12-01  376.760010  378.160004  371.309998  374.510010  373.145660   \n",
      "...                ...         ...         ...         ...         ...   \n",
      "2024-05-20  420.209991  426.769989  419.989990  425.339996  425.339996   \n",
      "2024-05-21  426.829987  432.970001  424.850006  429.040009  429.040009   \n",
      "2024-05-22  430.089996  432.410004  427.130005  430.519989  430.519989   \n",
      "2024-05-23  432.970001  433.600006  425.420013  427.000000  427.000000   \n",
      "2024-05-24  427.190002  431.059998  424.410004  430.160004  430.160004   \n",
      "\n",
      "              Volume  \n",
      "Date                  \n",
      "2023-11-27  22179200  \n",
      "2023-11-28  20453100  \n",
      "2023-11-29  28963400  \n",
      "2023-11-30  30554400  \n",
      "2023-12-01  33020400  \n",
      "...              ...  \n",
      "2024-05-20  16272100  \n",
      "2024-05-21  21453300  \n",
      "2024-05-22  18073700  \n",
      "2024-05-23  17211700  \n",
      "2024-05-24  11845800  \n",
      "\n",
      "[125 rows x 6 columns]\n"
     ]
    },
    {
     "name": "stderr",
     "output_type": "stream",
     "text": [
      "\n"
     ]
    }
   ],
   "source": [
    "import yfinance as yf\n",
    "\n",
    "\n",
    "data = yf.download(\"MSFT\", period=\"6mo\")\n",
    "print(data)"
   ]
  },
  {
   "cell_type": "markdown",
   "metadata": {},
   "source": [
    "#### Downloading data from start date to end date"
   ]
  },
  {
   "cell_type": "code",
   "execution_count": 4,
   "metadata": {},
   "outputs": [
    {
     "name": "stderr",
     "output_type": "stream",
     "text": [
      "[*********************100%%**********************]  1 of 1 completed\n"
     ]
    }
   ],
   "source": [
    "import yfinance as yf\n",
    "\n",
    "\n",
    "data = yf.download(\"MSFT\", start=\"2024-01-01\", end=\"2024-04-30\")"
   ]
  }
 ],
 "metadata": {
  "kernelspec": {
   "display_name": "Python 3",
   "language": "python",
   "name": "python3"
  },
  "language_info": {
   "codemirror_mode": {
    "name": "ipython",
    "version": 3
   },
   "file_extension": ".py",
   "mimetype": "text/x-python",
   "name": "python",
   "nbconvert_exporter": "python",
   "pygments_lexer": "ipython3",
   "version": "3.12.3"
  }
 },
 "nbformat": 4,
 "nbformat_minor": 2
}
